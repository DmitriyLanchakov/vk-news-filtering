{
 "cells": [
  {
   "cell_type": "code",
   "execution_count": 1,
   "metadata": {
    "collapsed": false,
    "scrolled": true
   },
   "outputs": [],
   "source": [
    "__author__ = 'Roman'\n",
    "# -*- coding: UTF-8 -*-\n",
    "\n",
    "import datetime\n",
    "from urllib.request import urlopen\n",
    "import time\n",
    "import json, sys, codecs\n",
    "import pandas as pd\n",
    "import numpy as np\n",
    "\n",
    "%run \"../../conn_settings.ipynb\""
   ]
  },
  {
   "cell_type": "code",
   "execution_count": 2,
   "metadata": {
    "collapsed": false
   },
   "outputs": [],
   "source": [
    "def get_friends(uid = default_id,  count = 9999):\n",
    "    reader = codecs.getreader(\"utf-8\")\n",
    "    raw_data = urlopen(API + 'friends.get?user_id=%s'\n",
    "                             '&order=name'\n",
    "                             '&count=%s'\n",
    "                             '&v=5.59'\n",
    "                             '&fields=sex,bdate,city,country,has_mobile,contacts'\n",
    "                             '&access_token=%s' % (uid, count, token)).read().decode()\n",
    "    \n",
    "    data = json.loads(raw_data)\n",
    "    time.sleep(sleep)\n",
    "    \n",
    "    return data['response']['items'] "
   ]
  },
  {
   "cell_type": "code",
   "execution_count": 3,
   "metadata": {
    "collapsed": true
   },
   "outputs": [],
   "source": [
    "def get_full_friends(uid = default_id,  count = 9999):\n",
    "    reader = codecs.getreader(\"utf-8\")\n",
    "    raw_data = urlopen(API + 'friends.get?user_id=%s'\n",
    "                             '&order=name'\n",
    "                             '&count=%s'\n",
    "                             '&v=5.59'\n",
    "                             '&fields=sex,bdate,city,country,has_mobile,contacts,domain,followers_count,friend_status,games,'\n",
    "                             'education,relation,last_seen,status,universities,career,exports,common_count,connections,counters,'\n",
    "                             'has_photo,home_town,interests,is_friend,is_hidden_from_feed,maiden_name,military,movies,music,'\n",
    "                             'nickname,occupation,online,personal,quotes,relatives,relation,schools,screen_name,site,tv,verified,wall_comments'\n",
    "                             '&access_token=%s' % (uid, count, token)).read().decode()\n",
    "    \n",
    "    data = json.loads(raw_data)\n",
    "    time.sleep(sleep)\n",
    "    \n",
    "    return data['response']['items'] "
   ]
  },
  {
   "cell_type": "code",
   "execution_count": 4,
   "metadata": {
    "collapsed": false
   },
   "outputs": [],
   "source": [
    "def main():\n",
    "    return pd.DataFrame.from_dict(get_friends(default_id))\n",
    "    \n",
    "df = main()\n",
    "\n",
    "df.ix[df.city.isnull(), 'city'] = df.ix[df.city.isnull(), 'city'].apply(lambda x: \n",
    "                                                                            {'id': -1, 'title': '-'})\n",
    "df[['city_id','city_name']] = df['city'].apply(pd.Series)\n",
    "df.drop(['city','city_id'], axis=1, inplace=True)\n",
    "    \n",
    "df.ix[df.country.isnull(), 'country'] = df.ix[df.country.isnull(), 'country'].apply(lambda x: \n",
    "                                                                                        {'id': -1, 'title': '-'})\n",
    "df[['country_id','country_name']] = df['country'].apply(pd.Series)\n",
    "df.drop(['country','country_id'], axis=1, inplace=True)\n",
    "\n",
    "df.has_mobile.fillna(-1, inplace=True)\n",
    "df.has_mobile = df.has_mobile.astype(int)\n",
    "\n",
    "df.home_phone = df.home_phone.str.strip()\n",
    "df.home_phone.fillna('-', inplace=True)\n",
    "df.home_phone.replace('','-', inplace=True)\n",
    "\n",
    "df.deactivated.fillna('OK', inplace=True)\n",
    "\n",
    "df = df[['id', 'first_name', 'last_name', 'bdate', 'sex', 'city_name', 'country_name', 'has_mobile', 'home_phone', 'deactivated']]\n",
    "# df.head()"
   ]
  },
  {
   "cell_type": "code",
   "execution_count": 5,
   "metadata": {
    "collapsed": false
   },
   "outputs": [],
   "source": [
    "list_to_del = ['-', '*', ')', ' ', '(', ':', '!', '&', '.', '/']\n",
    "df['home_phone_clean'] = df.home_phone.apply(lambda x: x.translate({ord(y): '' for y in list_to_del}))"
   ]
  },
  {
   "cell_type": "code",
   "execution_count": 6,
   "metadata": {
    "collapsed": true
   },
   "outputs": [],
   "source": [
    "import re\n",
    "\n",
    "df['home_phone_digits'] = df.home_phone.apply(lambda x: re.sub(\"[^+0-9]\", \"\", x.strip()))\n",
    "# df.head()"
   ]
  },
  {
   "cell_type": "code",
   "execution_count": 12,
   "metadata": {
    "collapsed": false
   },
   "outputs": [],
   "source": [
    "idx = df.home_phone_digits.apply(lambda x: len(str(x))>=5)\n",
    "df.ix[idx,'OK_Phone'] = 1\n",
    "df.ix[~idx,'OK_Phone'] = 0\n",
    "df.OK_Phone = df.OK_Phone.astype(int)\n",
    "df.home_phone_digits = df.home_phone_digits.astype(str)\n",
    "df.home_phone_clean = df.home_phone_clean.astype(str)"
   ]
  },
  {
   "cell_type": "code",
   "execution_count": 13,
   "metadata": {
    "collapsed": false,
    "scrolled": false
   },
   "outputs": [],
   "source": [
    "df = df.sort_values(by = ['deactivated','OK_Phone','country_name','first_name','last_name'], \n",
    "               ascending=[True, False, False, True, True]).reset_index(drop=True)\n",
    "# df.head()"
   ]
  },
  {
   "cell_type": "code",
   "execution_count": 14,
   "metadata": {
    "collapsed": false
   },
   "outputs": [],
   "source": [
    "df['VK_page'] = df.id.astype(str).apply(lambda x: '=ГИПЕРССЫЛКА(\\\"https://vk.com/id' + x + '\\\";' + '\\\"id' + x + '\\\"')"
   ]
  },
  {
   "cell_type": "code",
   "execution_count": 15,
   "metadata": {
    "collapsed": true
   },
   "outputs": [],
   "source": [
    "df['VK_page_new'] = df.id.astype(str).apply(lambda x: 'https://vk.com/id' + x)"
   ]
  },
  {
   "cell_type": "code",
   "execution_count": 16,
   "metadata": {
    "collapsed": false
   },
   "outputs": [],
   "source": [
    "df.to_csv('../../friends_base.csv',index=False, sep=';',encoding='utf-8')\n",
    "\n",
    "# df.head()"
   ]
  }
 ],
 "metadata": {
  "anaconda-cloud": {},
  "kernelspec": {
   "display_name": "Python [default]",
   "language": "python",
   "name": "python3"
  },
  "language_info": {
   "codemirror_mode": {
    "name": "ipython",
    "version": 3
   },
   "file_extension": ".py",
   "mimetype": "text/x-python",
   "name": "python",
   "nbconvert_exporter": "python",
   "pygments_lexer": "ipython3",
   "version": "3.5.2"
  }
 },
 "nbformat": 4,
 "nbformat_minor": 0
}
