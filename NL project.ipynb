{
 "cells": [
  {
   "cell_type": "code",
   "execution_count": 1,
   "metadata": {
    "collapsed": false,
    "scrolled": true
   },
   "outputs": [],
   "source": [
    "__author__ = 'Roman'\n",
    "# -*- coding: UTF-8 -*-\n",
    "\n",
    "import datetime\n",
    "from urllib.request import urlopen\n",
    "import time\n",
    "import json, sys, codecs\n",
    "import pandas as pd\n",
    "import numpy as np\n",
    "\n",
    "%run \"../../conn_settings.ipynb\""
   ]
  },
  {
   "cell_type": "code",
   "execution_count": 2,
   "metadata": {
    "collapsed": false
   },
   "outputs": [],
   "source": [
    "def get_friends(uid = default_id,  count = 9999):\n",
    "    reader = codecs.getreader(\"utf-8\")\n",
    "    raw_data = urlopen(API + 'friends.get?user_id=%s'\n",
    "                             '&order=name'\n",
    "                             '&count=%s'\n",
    "                             '&v=5.59'\n",
    "                             '&fields=sex,bdate,city,country,has_mobile,contacts'\n",
    "                             '&access_token=%s' % (uid, count, token)).read().decode()\n",
    "    \n",
    "    data = json.loads(raw_data)\n",
    "    time.sleep(sleep)\n",
    "    \n",
    "    return data['response']['items'] "
   ]
  },
  {
   "cell_type": "code",
   "execution_count": 3,
   "metadata": {
    "collapsed": true
   },
   "outputs": [],
   "source": [
    "def get_full_friends(uid = default_id,  count = 9999):\n",
    "    reader = codecs.getreader(\"utf-8\")\n",
    "    raw_data = urlopen(API + 'friends.get?user_id=%s'\n",
    "                             '&order=name'\n",
    "                             '&count=%s'\n",
    "                             '&v=5.59'\n",
    "                             '&fields=sex,bdate,city,country,has_mobile,contacts,domain,followers_count,friend_status,games,'\n",
    "                             'education,relation,last_seen,status,universities,career,exports,common_count,connections,counters,'\n",
    "                             'has_photo,home_town,interests,is_friend,is_hidden_from_feed,maiden_name,military,movies,music,'\n",
    "                             'nickname,occupation,online,personal,quotes,relatives,relation,schools,screen_name,site,tv,verified,wall_comments'\n",
    "                             '&access_token=%s' % (uid, count, token)).read().decode()\n",
    "    \n",
    "    data = json.loads(raw_data)\n",
    "    time.sleep(sleep)\n",
    "    \n",
    "    return data['response']['items'] "
   ]
  },
  {
   "cell_type": "code",
   "execution_count": 8,
   "metadata": {
    "collapsed": false
   },
   "outputs": [],
   "source": [
    "def main():\n",
    "    return pd.DataFrame.from_dict(get_friends(default_id))\n",
    "    \n",
    "df = main()\n",
    "\n",
    "df.ix[df.city.isnull(), 'city'] = df.ix[df.city.isnull(), 'city'].apply(lambda x: \n",
    "                                                                            {'id': -1, 'title': '-'})\n",
    "df[['city_id','city_name']] = df['city'].apply(pd.Series)\n",
    "df.drop(['city','city_id'], axis=1, inplace=True)\n",
    "    \n",
    "df.ix[df.country.isnull(), 'country'] = df.ix[df.country.isnull(), 'country'].apply(lambda x: \n",
    "                                                                                        {'id': -1, 'title': '-'})\n",
    "df[['country_id','country_name']] = df['country'].apply(pd.Series)\n",
    "df.drop(['country','country_id'], axis=1, inplace=True)\n",
    "\n",
    "df.has_mobile.fillna(-1, inplace=True)\n",
    "df.has_mobile = df.has_mobile.astype(int)\n",
    "\n",
    "df.home_phone = df.home_phone.str.strip()\n",
    "df.home_phone.fillna('-', inplace=True)\n",
    "df.home_phone.replace('','-', inplace=True)\n",
    "\n",
    "df.deactivated.fillna('OK', inplace=True)\n",
    "\n",
    "df = df[['id', 'first_name', 'last_name', 'bdate', 'sex', 'city_name', 'country_name', 'has_mobile', 'home_phone', 'deactivated']]\n",
    "df.to_csv('../../friends_base.csv',index=False, sep=';',encoding='utf-8')\n",
    "\n",
    "# df.head()"
   ]
  },
  {
   "cell_type": "code",
   "execution_count": null,
   "metadata": {
    "collapsed": true
   },
   "outputs": [],
   "source": []
  }
 ],
 "metadata": {
  "anaconda-cloud": {},
  "kernelspec": {
   "display_name": "Python [default]",
   "language": "python",
   "name": "python3"
  },
  "language_info": {
   "codemirror_mode": {
    "name": "ipython",
    "version": 3
   },
   "file_extension": ".py",
   "mimetype": "text/x-python",
   "name": "python",
   "nbconvert_exporter": "python",
   "pygments_lexer": "ipython3",
   "version": "3.5.2"
  }
 },
 "nbformat": 4,
 "nbformat_minor": 0
}
